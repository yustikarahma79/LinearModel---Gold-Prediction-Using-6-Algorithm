{
 "cells": [
  {
   "cell_type": "code",
   "execution_count": 1,
   "metadata": {},
   "outputs": [],
   "source": [
    "import quandl\n",
    "import numpy as np\n",
    "import pandas as pd\n",
    "import matplotlib.pyplot as plt\n",
    "import warnings\n",
    "from statsmodels.tsa.stattools import adfuller\n",
    "from sklearn import model_selection\n",
    "from sklearn import linear_model\n",
    "from sklearn.preprocessing import MinMaxScaler"
   ]
  },
  {
   "cell_type": "code",
   "execution_count": 2,
   "metadata": {},
   "outputs": [],
   "source": [
    "def warn(*args, **kwargs):\n",
    "    pass\n",
    "\n",
    "\n",
    "warnings.warn = warn\n",
    "\n",
    "\n",
    "def predictUs(thisTestX, mtl_thisTrain, llc_thisTrain, hr_thisTrain, mten_thisTrain, ridge_thisTrain, bayes_thisTrain):\n",
    "    y_pred_mtl = mtl_thisTrain.predict(thisTestX).ravel()\n",
    "    y_pred_llc = llc_thisTrain.predict(thisTestX).ravel()\n",
    "    y_pred_hr = hr_thisTrain.predict(thisTestX).ravel()\n",
    "    y_pred_mten = mten_thisTrain.predict(thisTestX).ravel()\n",
    "    y_pred_ridge = ridge_thisTrain.predict(thisTestX).ravel()\n",
    "    y_pred_bayes = bayes_thisTrain.predict(thisTestX).ravel()\n",
    "    return y_pred_mtl, y_pred_llc, y_pred_hr, y_pred_mten, y_pred_ridge, y_pred_bayes\n",
    "\n",
    "def separateTestingData8HoursAhead(thisData, window_size):\n",
    "    panjang = len(thisData)\n",
    "    panjang_window = window_size\n",
    "\n",
    "    # Temporal data initialization\n",
    "    tmp = np.transpose(thisData)\n",
    "\n",
    "    # Training data initialization\n",
    "    x_data = tmp[:, 0:panjang_window]\n",
    "    y_data = tmp[:, panjang_window + 1:panjang_window + 2]\n",
    "\n",
    "    # Filling the remaining training data\n",
    "    for x in range(1, panjang - panjang_window - 1):\n",
    "        tmp = np.roll(tmp, -1, axis=1)\n",
    "        x_data = np.vstack((x_data, tmp[:, 0:panjang_window]))\n",
    "        y_data = np.vstack(\n",
    "            (y_data, tmp[:, panjang_window + 1:panjang_window + 2]))\n",
    "\n",
    "    # Cleaning temporal data\n",
    "    del tmp\n",
    "\n",
    "    return x_data, y_data\n",
    "\n",
    "\n",
    "def getTrainParams(thisTrainX, thisTrainY):\n",
    "    mtl_thisTrain = linear_model.MultiTaskLasso()\n",
    "    llc_thisTrain = linear_model.LassoLarsCV()\n",
    "    hr_thisTrain = linear_model.HuberRegressor()\n",
    "    mten_thisTrain = linear_model.MultiTaskElasticNetCV()\n",
    "    ridge_thisTrain = linear_model.RidgeCV()\n",
    "    bayes_thisTrain = linear_model.BayesianRidge()\n",
    "    \n",
    "    mtl_thisTrain.fit(thisTrainX, thisTrainY)\n",
    "    llc_thisTrain.fit(thisTrainX, thisTrainY.ravel())\n",
    "    hr_thisTrain.fit(thisTrainX, thisTrainY.ravel())\n",
    "    mten_thisTrain.fit(thisTrainX, thisTrainY)\n",
    "    ridge_thisTrain.fit(thisTrainX, thisTrainY)\n",
    "    bayes_thisTrain.fit(thisTrainX, thisTrainY)\n",
    "\n",
    "    return mtl_thisTrain, llc_thisTrain, hr_thisTrain, mten_thisTrain, ridge_thisTrain, bayes_thisTrain\n",
    "\n",
    "def CalculateAccuracy(predicted_data, soon_data, current_data):\n",
    "    deviationpredict = predicted_data - data_soon\n",
    "    deviationreal = current_data - data_soon\n",
    "\n",
    "    predictionmatrix = (deviationpredict > 0) * 1\n",
    "    realmatrix = (deviationreal > 0) * 1\n",
    "\n",
    "    result = (predictionmatrix == realmatrix) * 1\n",
    "    print(sum(result) / len(result))"
   ]
  },
  {
   "cell_type": "code",
   "execution_count": 3,
   "metadata": {},
   "outputs": [
    {
     "data": {
      "text/html": [
       "<div>\n",
       "<style scoped>\n",
       "    .dataframe tbody tr th:only-of-type {\n",
       "        vertical-align: middle;\n",
       "    }\n",
       "\n",
       "    .dataframe tbody tr th {\n",
       "        vertical-align: top;\n",
       "    }\n",
       "\n",
       "    .dataframe thead th {\n",
       "        text-align: right;\n",
       "    }\n",
       "</style>\n",
       "<table border=\"1\" class=\"dataframe\">\n",
       "  <thead>\n",
       "    <tr style=\"text-align: right;\">\n",
       "      <th></th>\n",
       "      <th>Value</th>\n",
       "    </tr>\n",
       "    <tr>\n",
       "      <th>Date</th>\n",
       "      <th></th>\n",
       "    </tr>\n",
       "  </thead>\n",
       "  <tbody>\n",
       "    <tr>\n",
       "      <th>2018-11-05</th>\n",
       "      <td>1232.25</td>\n",
       "    </tr>\n",
       "    <tr>\n",
       "      <th>2018-11-06</th>\n",
       "      <td>1231.60</td>\n",
       "    </tr>\n",
       "    <tr>\n",
       "      <th>2018-11-07</th>\n",
       "      <td>1229.95</td>\n",
       "    </tr>\n",
       "    <tr>\n",
       "      <th>2018-11-08</th>\n",
       "      <td>1224.15</td>\n",
       "    </tr>\n",
       "    <tr>\n",
       "      <th>2018-11-09</th>\n",
       "      <td>1211.40</td>\n",
       "    </tr>\n",
       "  </tbody>\n",
       "</table>\n",
       "</div>"
      ],
      "text/plain": [
       "              Value\n",
       "Date               \n",
       "2018-11-05  1232.25\n",
       "2018-11-06  1231.60\n",
       "2018-11-07  1229.95\n",
       "2018-11-08  1224.15\n",
       "2018-11-09  1211.40"
      ]
     },
     "execution_count": 3,
     "metadata": {},
     "output_type": "execute_result"
    }
   ],
   "source": [
    "data = quandl.get(\"WGC/GOLD_DAILY_USD\", authtoken=\"C5CQZuxZM7EbJvzMBGhm\")\n",
    "data.tail(5)"
   ]
  },
  {
   "cell_type": "code",
   "execution_count": 4,
   "metadata": {},
   "outputs": [],
   "source": [
    "datalength = data.shape[0]//2\n",
    "datatrain = data.iloc[:datalength,0:1].values\n",
    "datatest = data.iloc[datalength:,0:1].values"
   ]
  },
  {
   "cell_type": "code",
   "execution_count": 5,
   "metadata": {},
   "outputs": [],
   "source": [
    "window = 31\n",
    "x_train_data, y_train_data = separateTestingData8HoursAhead(\n",
    "    datatrain, window)\n",
    "\n",
    "x_test_data, y_test_data = separateTestingData8HoursAhead(\n",
    "    datatest, window)"
   ]
  },
  {
   "cell_type": "code",
   "execution_count": 6,
   "metadata": {},
   "outputs": [],
   "source": [
    "mtl, llc, hr, mten, ridge, bayes = getTrainParams(x_train_data, y_train_data)"
   ]
  },
  {
   "cell_type": "code",
   "execution_count": 7,
   "metadata": {},
   "outputs": [],
   "source": [
    "pred_mtl, pred_llc, pred_hr, pred_mten, pred_ridge, pred_bayes = predictUs(x_test_data, mtl, llc, hr, mten, ridge, bayes)"
   ]
  },
  {
   "cell_type": "code",
   "execution_count": 8,
   "metadata": {},
   "outputs": [],
   "source": [
    "data_soon = data.iloc[datalength + window - 1: -2, 0:1].values.ravel()\n",
    "current_data = data.iloc[datalength + window + 1:, 0:1].values.ravel()"
   ]
  },
  {
   "cell_type": "code",
   "execution_count": 9,
   "metadata": {},
   "outputs": [
    {
     "name": "stdout",
     "output_type": "stream",
     "text": [
      "0.48640832851359167\n"
     ]
    }
   ],
   "source": [
    "#mtl\n",
    "CalculateAccuracy(pred_mtl, data_soon, current_data)"
   ]
  },
  {
   "cell_type": "code",
   "execution_count": 10,
   "metadata": {},
   "outputs": [
    {
     "name": "stdout",
     "output_type": "stream",
     "text": [
      "0.48544438018122227\n"
     ]
    }
   ],
   "source": [
    "#llc\n",
    "CalculateAccuracy(pred_llc, data_soon, current_data)"
   ]
  },
  {
   "cell_type": "code",
   "execution_count": 11,
   "metadata": {},
   "outputs": [
    {
     "name": "stdout",
     "output_type": "stream",
     "text": [
      "0.49546944283786387\n"
     ]
    }
   ],
   "source": [
    "#hr\n",
    "CalculateAccuracy(pred_hr, data_soon, current_data)"
   ]
  },
  {
   "cell_type": "code",
   "execution_count": 12,
   "metadata": {},
   "outputs": [
    {
     "name": "stdout",
     "output_type": "stream",
     "text": [
      "0.4918064391748602\n"
     ]
    }
   ],
   "source": [
    "#mten\n",
    "CalculateAccuracy(pred_mten, data_soon, current_data)"
   ]
  },
  {
   "cell_type": "code",
   "execution_count": 13,
   "metadata": {},
   "outputs": [
    {
     "name": "stdout",
     "output_type": "stream",
     "text": [
      "0.48467322151532677\n"
     ]
    }
   ],
   "source": [
    "#ridge\n",
    "CalculateAccuracy(pred_ridge, data_soon, current_data)"
   ]
  },
  {
   "cell_type": "code",
   "execution_count": 14,
   "metadata": {},
   "outputs": [
    {
     "name": "stdout",
     "output_type": "stream",
     "text": [
      "0.4852515905147484\n"
     ]
    }
   ],
   "source": [
    "CalculateAccuracy(pred_bayes, data_soon, current_data)"
   ]
  }
 ],
 "metadata": {
  "kernelspec": {
   "display_name": "Python 3",
   "language": "python",
   "name": "python3"
  },
  "language_info": {
   "codemirror_mode": {
    "name": "ipython",
    "version": 3
   },
   "file_extension": ".py",
   "mimetype": "text/x-python",
   "name": "python",
   "nbconvert_exporter": "python",
   "pygments_lexer": "ipython3",
   "version": "3.6.6"
  }
 },
 "nbformat": 4,
 "nbformat_minor": 2
}
